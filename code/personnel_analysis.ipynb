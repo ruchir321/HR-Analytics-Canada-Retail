{
 "cells": [
  {
   "cell_type": "markdown",
   "metadata": {},
   "source": [
    "# Canada Retail Personnel Data Analysis"
   ]
  },
  {
   "cell_type": "markdown",
   "metadata": {},
   "source": [
    "## 1. Import Libraries"
   ]
  },
  {
   "cell_type": "code",
   "execution_count": 1,
   "metadata": {},
   "outputs": [],
   "source": [
    "import matplotlib.pyplot as plt\n",
    "import seaborn as sns\n",
    "\n",
    "import pandas as pd\n",
    "\n",
    "from sklearn.linear_model import LinearRegression\n",
    "from sklearn.cluster import KMeans\n",
    "from sklearn.model_selection import train_test_split\n",
    "from sklearn.metrics import mean_squared_error\n",
    "\n",
    "from sklearn.model_selection import train_test_split\n",
    "from sklearn.linear_model import LogisticRegression\n",
    "from sklearn.metrics import accuracy_score\n"
   ]
  },
  {
   "cell_type": "markdown",
   "metadata": {},
   "source": [
    "## 2. Import Data"
   ]
  },
  {
   "cell_type": "code",
   "execution_count": 2,
   "metadata": {},
   "outputs": [],
   "source": [
    "df_apps = pd.read_csv('../input/applicant.csv')\n",
    "df_emp = pd.read_csv('../input/employee.csv')"
   ]
  },
  {
   "cell_type": "markdown",
   "metadata": {},
   "source": [
    "## 3. Data Cleaning"
   ]
  },
  {
   "cell_type": "code",
   "execution_count": 3,
   "metadata": {},
   "outputs": [],
   "source": [
    "df_emp['gender'] = df_emp['gender'].astype('category')\n",
    "df_emp['race'] = df_emp['race'].astype('category')\n",
    "df_emp['education'] = df_emp['education'].astype('category')\n",
    "df_emp['marital_status'] = df_emp['marital_status'].astype('category')\n",
    "df_emp['division'] = df_emp['division'].astype('category')\n",
    "df_emp['training_status'] = df_emp['training_status'].astype('category')"
   ]
  },
  {
   "cell_type": "code",
   "execution_count": 4,
   "metadata": {},
   "outputs": [],
   "source": [
    "df_apps['gender'] = df_apps['gender'].astype('category')\n",
    "df_apps['race'] = df_apps['race'].astype('category')\n",
    "df_apps['education'] = df_apps['education'].astype('category')\n",
    "df_apps['marital_status'] = df_apps['marital_status'].astype('category')"
   ]
  },
  {
   "cell_type": "code",
   "execution_count": 5,
   "metadata": {},
   "outputs": [],
   "source": [
    "common_columns = list(set(df_emp.columns).intersection(df_apps.columns))"
   ]
  },
  {
   "cell_type": "markdown",
   "metadata": {},
   "source": [
    "Removing gender, race and marital status columns to avoid bias in the analysis."
   ]
  },
  {
   "cell_type": "code",
   "execution_count": 6,
   "metadata": {},
   "outputs": [],
   "source": [
    "common_columns.remove('gender')\n",
    "common_columns.remove('id')\n",
    "common_columns.remove('race')\n",
    "common_columns.remove('marital_status')\n"
   ]
  },
  {
   "cell_type": "code",
   "execution_count": 7,
   "metadata": {},
   "outputs": [
    {
     "data": {
      "text/plain": [
       "['education',\n",
       " 'sales_skills',\n",
       " 'age',\n",
       " 'cognitive_ability',\n",
       " 'work_life',\n",
       " 'extraversion',\n",
       " 'agreeable',\n",
       " 'openness',\n",
       " 'persuasion_skills',\n",
       " 'conscientiousness',\n",
       " 'emotion_stability',\n",
       " 'culture_fit',\n",
       " 'structured_interview']"
      ]
     },
     "execution_count": 7,
     "metadata": {},
     "output_type": "execute_result"
    }
   ],
   "source": [
    "common_columns"
   ]
  },
  {
   "cell_type": "markdown",
   "metadata": {},
   "source": [
    "Converting nominal data to ordinal data for including hierarchy"
   ]
  },
  {
   "cell_type": "code",
   "execution_count": 8,
   "metadata": {},
   "outputs": [],
   "source": [
    "df_emp['education'] = pd.Categorical(df_emp['education'], categories=['Some high school', 'High school diploma or equivalent', 'Post-secondary degree', 'Some college'], ordered=True)\n",
    "df_emp['education'] = df_emp['education'].cat.codes\n"
   ]
  },
  {
   "cell_type": "code",
   "execution_count": 9,
   "metadata": {},
   "outputs": [],
   "source": [
    "df_apps['education'] = pd.Categorical(df_apps['education'], categories=['Some high school', 'High school diploma or equivalent', 'Post-secondary degree', 'Some college'], ordered=True)\n",
    "df_apps['education'] = df_apps['education'].cat.codes\n"
   ]
  },
  {
   "cell_type": "code",
   "execution_count": 10,
   "metadata": {},
   "outputs": [
    {
     "data": {
      "text/plain": [
       "Index(['store_id', 'year', 'month', 'population', 'location_code', 'id', 'age',\n",
       "       'gender', 'race', 'marital_status', 'education', 'division', 'tenure',\n",
       "       'training_status', 'jlevel', 'salary', 'absent', 'turnover',\n",
       "       'persuasion_skills', 'commitment', 'respect', 'development', 'goal',\n",
       "       'perf_feedback', 'perf_fair', 'reward_fair', 'work_life', 'competition',\n",
       "       'culture_fit', 'extraversion', 'conscientiousness', 'emotion_stability',\n",
       "       'agreeable', 'openness', 'cognitive_ability', 'structured_interview',\n",
       "       'business_rating', 'behavior_rating', 'sales_skills'],\n",
       "      dtype='object')"
      ]
     },
     "execution_count": 10,
     "metadata": {},
     "output_type": "execute_result"
    }
   ],
   "source": [
    "df_emp.columns"
   ]
  },
  {
   "cell_type": "code",
   "execution_count": 11,
   "metadata": {},
   "outputs": [],
   "source": [
    "# Set the option to display all columns\n",
    "pd.set_option('display.max_columns', None)\n",
    "\n",
    "# Display all columns of the DataFrame\n",
    "df = df_emp.describe()"
   ]
  },
  {
   "cell_type": "markdown",
   "metadata": {},
   "source": [
    "## 4. Linear Regression:\n",
    "\n",
    "We will be using the employee data to predict the turnover rate of the sales associate candidates by using the common features as predictors."
   ]
  },
  {
   "cell_type": "markdown",
   "metadata": {},
   "source": [
    "### 4.1. Linear Regression for predicting Business rating"
   ]
  },
  {
   "cell_type": "code",
   "execution_count": 13,
   "metadata": {},
   "outputs": [
    {
     "data": {
      "text/plain": [
       "0.2052935433908684"
      ]
     },
     "execution_count": 13,
     "metadata": {},
     "output_type": "execute_result"
    }
   ],
   "source": [
    "# Split the data into input features (X) and target variable (y)\n",
    "X = df_emp[common_columns]\n",
    "y = df_emp['business_rating']\n",
    "\n",
    "# Split the data into training and testing sets\n",
    "X_train, X_test, y_train, y_test = train_test_split(X, y, test_size=0.2, random_state=42)\n",
    "\n",
    "# Create an instance of the LinearRegression model\n",
    "model_business_ratings = LinearRegression()\n",
    "\n",
    "# Fit the model to the training data\n",
    "model_business_ratings.fit(X_train, y_train)\n",
    "\n",
    "# Predict the target variable for the testing data\n",
    "y_pred = model_business_ratings.predict(X_test)\n",
    "\n",
    "# Evaluate the model's performance\n",
    "mse = mean_squared_error(y_test, y_pred)\n",
    "mse\n"
   ]
  },
  {
   "cell_type": "markdown",
   "metadata": {},
   "source": [
    "### 4.2. Linear Regression for predicting Behavior rating"
   ]
  },
  {
   "cell_type": "code",
   "execution_count": 14,
   "metadata": {},
   "outputs": [
    {
     "data": {
      "text/plain": [
       "0.3585031405947513"
      ]
     },
     "execution_count": 14,
     "metadata": {},
     "output_type": "execute_result"
    }
   ],
   "source": [
    "# Split the data into input features (X) and target variable (y)\n",
    "X = df_emp[common_columns]\n",
    "y = df_emp['behavior_rating']\n",
    "\n",
    "# Split the data into training and testing sets\n",
    "X_train, X_test, y_train, y_test = train_test_split(X, y, test_size=0.2, random_state=42)\n",
    "\n",
    "# Create an instance of the LinearRegression model\n",
    "model_behavior_ratings = LinearRegression()\n",
    "\n",
    "# Fit the model to the training data\n",
    "model_behavior_ratings.fit(X_train, y_train)\n",
    "\n",
    "# Predict the target variable for the testing data\n",
    "y_pred = model_behavior_ratings.predict(X_test)\n",
    "\n",
    "# Evaluate the model's performance\n",
    "mse = mean_squared_error(y_test, y_pred)\n",
    "mse\n"
   ]
  },
  {
   "cell_type": "markdown",
   "metadata": {},
   "source": [
    "## 5. Predicting ratings for candidates"
   ]
  },
  {
   "cell_type": "markdown",
   "metadata": {},
   "source": [
    "We use the two linear regression models to predict the ratings and find the top 3 candidates for sales associate position."
   ]
  },
  {
   "cell_type": "code",
   "execution_count": 15,
   "metadata": {},
   "outputs": [
    {
     "data": {
      "text/html": [
       "<div>\n",
       "<style scoped>\n",
       "    .dataframe tbody tr th:only-of-type {\n",
       "        vertical-align: middle;\n",
       "    }\n",
       "\n",
       "    .dataframe tbody tr th {\n",
       "        vertical-align: top;\n",
       "    }\n",
       "\n",
       "    .dataframe thead th {\n",
       "        text-align: right;\n",
       "    }\n",
       "</style>\n",
       "<table border=\"1\" class=\"dataframe\">\n",
       "  <thead>\n",
       "    <tr style=\"text-align: right;\">\n",
       "      <th></th>\n",
       "      <th>id</th>\n",
       "      <th>age</th>\n",
       "      <th>gender</th>\n",
       "      <th>race</th>\n",
       "      <th>marital_status</th>\n",
       "      <th>education</th>\n",
       "      <th>yrs_of_sales experience</th>\n",
       "      <th>persuasion_skills</th>\n",
       "      <th>work_life</th>\n",
       "      <th>culture_fit</th>\n",
       "      <th>extraversion</th>\n",
       "      <th>conscientiousness</th>\n",
       "      <th>emotion_stability</th>\n",
       "      <th>agreeable</th>\n",
       "      <th>openness</th>\n",
       "      <th>cognitive_ability</th>\n",
       "      <th>structured_interview</th>\n",
       "      <th>sales_skills</th>\n",
       "      <th>predicted_business_rating</th>\n",
       "    </tr>\n",
       "  </thead>\n",
       "  <tbody>\n",
       "    <tr>\n",
       "      <th>52</th>\n",
       "      <td>150</td>\n",
       "      <td>40</td>\n",
       "      <td>Male</td>\n",
       "      <td>W</td>\n",
       "      <td>Y</td>\n",
       "      <td>3</td>\n",
       "      <td>12.5</td>\n",
       "      <td>3</td>\n",
       "      <td>2</td>\n",
       "      <td>3</td>\n",
       "      <td>5</td>\n",
       "      <td>4</td>\n",
       "      <td>3</td>\n",
       "      <td>1</td>\n",
       "      <td>3</td>\n",
       "      <td>3</td>\n",
       "      <td>5</td>\n",
       "      <td>2</td>\n",
       "      <td>2.801106</td>\n",
       "    </tr>\n",
       "    <tr>\n",
       "      <th>51</th>\n",
       "      <td>103</td>\n",
       "      <td>32</td>\n",
       "      <td>Female</td>\n",
       "      <td>W</td>\n",
       "      <td>Y</td>\n",
       "      <td>2</td>\n",
       "      <td>11.6</td>\n",
       "      <td>2</td>\n",
       "      <td>1</td>\n",
       "      <td>1</td>\n",
       "      <td>5</td>\n",
       "      <td>4</td>\n",
       "      <td>3</td>\n",
       "      <td>1</td>\n",
       "      <td>3</td>\n",
       "      <td>3</td>\n",
       "      <td>4</td>\n",
       "      <td>3</td>\n",
       "      <td>2.774069</td>\n",
       "    </tr>\n",
       "    <tr>\n",
       "      <th>4</th>\n",
       "      <td>5</td>\n",
       "      <td>34</td>\n",
       "      <td>Female</td>\n",
       "      <td>NW</td>\n",
       "      <td>Y</td>\n",
       "      <td>2</td>\n",
       "      <td>6.8</td>\n",
       "      <td>3</td>\n",
       "      <td>1</td>\n",
       "      <td>3</td>\n",
       "      <td>5</td>\n",
       "      <td>3</td>\n",
       "      <td>3</td>\n",
       "      <td>3</td>\n",
       "      <td>4</td>\n",
       "      <td>2</td>\n",
       "      <td>5</td>\n",
       "      <td>2</td>\n",
       "      <td>2.581442</td>\n",
       "    </tr>\n",
       "  </tbody>\n",
       "</table>\n",
       "</div>"
      ],
      "text/plain": [
       "     id  age  gender race marital_status  education  yrs_of_sales experience  \\\n",
       "52  150   40    Male    W              Y          3                     12.5   \n",
       "51  103   32  Female    W              Y          2                     11.6   \n",
       "4     5   34  Female   NW              Y          2                      6.8   \n",
       "\n",
       "    persuasion_skills  work_life  culture_fit  extraversion  \\\n",
       "52                  3          2            3             5   \n",
       "51                  2          1            1             5   \n",
       "4                   3          1            3             5   \n",
       "\n",
       "    conscientiousness  emotion_stability  agreeable  openness  \\\n",
       "52                  4                  3          1         3   \n",
       "51                  4                  3          1         3   \n",
       "4                   3                  3          3         4   \n",
       "\n",
       "    cognitive_ability  structured_interview  sales_skills  \\\n",
       "52                  3                     5             2   \n",
       "51                  3                     4             3   \n",
       "4                   2                     5             2   \n",
       "\n",
       "    predicted_business_rating  \n",
       "52                   2.801106  \n",
       "51                   2.774069  \n",
       "4                    2.581442  "
      ]
     },
     "execution_count": 15,
     "metadata": {},
     "output_type": "execute_result"
    }
   ],
   "source": [
    "# Use the common columns in df_apps to make predictions\n",
    "\n",
    "X_test_apps = df_apps[common_columns]\n",
    "y_pred_apps = model_business_ratings.predict(X_test_apps)\n",
    "\n",
    "# Create a new column 'predicted_rating' in df_apps\n",
    "df_apps['predicted_business_rating'] = y_pred_apps\n",
    "\n",
    "# Sort the predicted values in descending order\n",
    "df_apps_sorted = df_apps.sort_values(by='predicted_business_rating', ascending=False)\n",
    "\n",
    "# Get the top 3 employees\n",
    "top_3_employees = df_emp.loc[df_apps_sorted.index[:3]]\n",
    "\n",
    "top_3_employees\n",
    "X_test_apps = df_apps[common_columns]\n",
    "y_pred_apps = model_business_ratings.predict(X_test_apps)\n",
    "\n",
    "# Create a new column 'predicted_rating' in df_apps\n",
    "df_apps['predicted_business_rating'] = y_pred_apps\n",
    "\n",
    "# Sort the predicted values in descending order\n",
    "df_apps_sorted = df_apps.sort_values(by='predicted_business_rating', ascending=False)\n",
    "\n",
    "# Get the top 3 employees\n",
    "top_3_applicants = df_apps.loc[df_apps_sorted.index[:3]]\n",
    "\n",
    "top_3_applicants\n",
    "\n"
   ]
  },
  {
   "cell_type": "code",
   "execution_count": 16,
   "metadata": {},
   "outputs": [
    {
     "data": {
      "text/html": [
       "<div>\n",
       "<style scoped>\n",
       "    .dataframe tbody tr th:only-of-type {\n",
       "        vertical-align: middle;\n",
       "    }\n",
       "\n",
       "    .dataframe tbody tr th {\n",
       "        vertical-align: top;\n",
       "    }\n",
       "\n",
       "    .dataframe thead th {\n",
       "        text-align: right;\n",
       "    }\n",
       "</style>\n",
       "<table border=\"1\" class=\"dataframe\">\n",
       "  <thead>\n",
       "    <tr style=\"text-align: right;\">\n",
       "      <th></th>\n",
       "      <th>id</th>\n",
       "      <th>age</th>\n",
       "      <th>gender</th>\n",
       "      <th>race</th>\n",
       "      <th>marital_status</th>\n",
       "      <th>education</th>\n",
       "      <th>yrs_of_sales experience</th>\n",
       "      <th>persuasion_skills</th>\n",
       "      <th>work_life</th>\n",
       "      <th>culture_fit</th>\n",
       "      <th>extraversion</th>\n",
       "      <th>conscientiousness</th>\n",
       "      <th>emotion_stability</th>\n",
       "      <th>agreeable</th>\n",
       "      <th>openness</th>\n",
       "      <th>cognitive_ability</th>\n",
       "      <th>structured_interview</th>\n",
       "      <th>sales_skills</th>\n",
       "      <th>predicted_business_rating</th>\n",
       "      <th>predicted_behavior_ratings</th>\n",
       "    </tr>\n",
       "  </thead>\n",
       "  <tbody>\n",
       "    <tr>\n",
       "      <th>52</th>\n",
       "      <td>150</td>\n",
       "      <td>40</td>\n",
       "      <td>Male</td>\n",
       "      <td>W</td>\n",
       "      <td>Y</td>\n",
       "      <td>3</td>\n",
       "      <td>12.5</td>\n",
       "      <td>3</td>\n",
       "      <td>2</td>\n",
       "      <td>3</td>\n",
       "      <td>5</td>\n",
       "      <td>4</td>\n",
       "      <td>3</td>\n",
       "      <td>1</td>\n",
       "      <td>3</td>\n",
       "      <td>3</td>\n",
       "      <td>5</td>\n",
       "      <td>2</td>\n",
       "      <td>2.801106</td>\n",
       "      <td>2.801106</td>\n",
       "    </tr>\n",
       "    <tr>\n",
       "      <th>51</th>\n",
       "      <td>103</td>\n",
       "      <td>32</td>\n",
       "      <td>Female</td>\n",
       "      <td>W</td>\n",
       "      <td>Y</td>\n",
       "      <td>2</td>\n",
       "      <td>11.6</td>\n",
       "      <td>2</td>\n",
       "      <td>1</td>\n",
       "      <td>1</td>\n",
       "      <td>5</td>\n",
       "      <td>4</td>\n",
       "      <td>3</td>\n",
       "      <td>1</td>\n",
       "      <td>3</td>\n",
       "      <td>3</td>\n",
       "      <td>4</td>\n",
       "      <td>3</td>\n",
       "      <td>2.774069</td>\n",
       "      <td>2.774069</td>\n",
       "    </tr>\n",
       "    <tr>\n",
       "      <th>4</th>\n",
       "      <td>5</td>\n",
       "      <td>34</td>\n",
       "      <td>Female</td>\n",
       "      <td>NW</td>\n",
       "      <td>Y</td>\n",
       "      <td>2</td>\n",
       "      <td>6.8</td>\n",
       "      <td>3</td>\n",
       "      <td>1</td>\n",
       "      <td>3</td>\n",
       "      <td>5</td>\n",
       "      <td>3</td>\n",
       "      <td>3</td>\n",
       "      <td>3</td>\n",
       "      <td>4</td>\n",
       "      <td>2</td>\n",
       "      <td>5</td>\n",
       "      <td>2</td>\n",
       "      <td>2.581442</td>\n",
       "      <td>2.581442</td>\n",
       "    </tr>\n",
       "  </tbody>\n",
       "</table>\n",
       "</div>"
      ],
      "text/plain": [
       "     id  age  gender race marital_status  education  yrs_of_sales experience  \\\n",
       "52  150   40    Male    W              Y          3                     12.5   \n",
       "51  103   32  Female    W              Y          2                     11.6   \n",
       "4     5   34  Female   NW              Y          2                      6.8   \n",
       "\n",
       "    persuasion_skills  work_life  culture_fit  extraversion  \\\n",
       "52                  3          2            3             5   \n",
       "51                  2          1            1             5   \n",
       "4                   3          1            3             5   \n",
       "\n",
       "    conscientiousness  emotion_stability  agreeable  openness  \\\n",
       "52                  4                  3          1         3   \n",
       "51                  4                  3          1         3   \n",
       "4                   3                  3          3         4   \n",
       "\n",
       "    cognitive_ability  structured_interview  sales_skills  \\\n",
       "52                  3                     5             2   \n",
       "51                  3                     4             3   \n",
       "4                   2                     5             2   \n",
       "\n",
       "    predicted_business_rating  predicted_behavior_ratings  \n",
       "52                   2.801106                    2.801106  \n",
       "51                   2.774069                    2.774069  \n",
       "4                    2.581442                    2.581442  "
      ]
     },
     "execution_count": 16,
     "metadata": {},
     "output_type": "execute_result"
    }
   ],
   "source": [
    "# Use the common columns in df_apps to make predictions\n",
    "\n",
    "X_test_apps = df_apps[common_columns]\n",
    "y_pred_apps = model_behavior_ratings.predict(X_test_apps)\n",
    "\n",
    "# Create a new column 'predicted_rating' in df_apps\n",
    "df_apps['predicted_behavior_ratings'] = y_pred_apps\n",
    "\n",
    "# Sort the predicted values in descending order\n",
    "df_apps_sorted = df_apps.sort_values(by='predicted_behavior_ratings', ascending=False)\n",
    "\n",
    "# Get the top 3 employees\n",
    "top_3_employees = df_emp.loc[df_apps_sorted.index[:3]]\n",
    "\n",
    "top_3_employees\n",
    "X_test_apps = df_apps[common_columns]\n",
    "y_pred_apps = model_business_ratings.predict(X_test_apps)\n",
    "\n",
    "# Create a new column 'predicted_rating' in df_apps\n",
    "df_apps['predicted_behavior_ratings'] = y_pred_apps\n",
    "\n",
    "# Sort the predicted values in descending order\n",
    "df_apps_sorted = df_apps.sort_values(by='predicted_behavior_ratings', ascending=False)\n",
    "\n",
    "# Get the top 3 employees\n",
    "top_3_applicants = df_apps.loc[df_apps_sorted.index[:3]]\n",
    "\n",
    "top_3_applicants\n",
    "\n"
   ]
  },
  {
   "cell_type": "markdown",
   "metadata": {},
   "source": [
    "## 6. K-means clustering"
   ]
  },
  {
   "cell_type": "markdown",
   "metadata": {},
   "source": [
    "K-means cluster will help us find common characteristics of empployees"
   ]
  },
  {
   "cell_type": "code",
   "execution_count": 17,
   "metadata": {},
   "outputs": [
    {
     "name": "stderr",
     "output_type": "stream",
     "text": [
      "c:\\Users\\ruchi\\anaconda3\\lib\\site-packages\\sklearn\\cluster\\_kmeans.py:1412: FutureWarning: The default value of `n_init` will change from 10 to 'auto' in 1.4. Set the value of `n_init` explicitly to suppress the warning\n",
      "  super()._check_params_vs_input(X, default_n_init=10)\n"
     ]
    },
    {
     "data": {
      "text/html": [
       "<div>\n",
       "<style scoped>\n",
       "    .dataframe tbody tr th:only-of-type {\n",
       "        vertical-align: middle;\n",
       "    }\n",
       "\n",
       "    .dataframe tbody tr th {\n",
       "        vertical-align: top;\n",
       "    }\n",
       "\n",
       "    .dataframe thead th {\n",
       "        text-align: right;\n",
       "    }\n",
       "</style>\n",
       "<table border=\"1\" class=\"dataframe\">\n",
       "  <thead>\n",
       "    <tr style=\"text-align: right;\">\n",
       "      <th></th>\n",
       "      <th>store_id</th>\n",
       "      <th>year</th>\n",
       "      <th>month</th>\n",
       "      <th>population</th>\n",
       "      <th>location_code</th>\n",
       "      <th>id</th>\n",
       "      <th>age</th>\n",
       "      <th>gender</th>\n",
       "      <th>race</th>\n",
       "      <th>marital_status</th>\n",
       "      <th>education</th>\n",
       "      <th>division</th>\n",
       "      <th>tenure</th>\n",
       "      <th>training_status</th>\n",
       "      <th>jlevel</th>\n",
       "      <th>salary</th>\n",
       "      <th>absent</th>\n",
       "      <th>turnover</th>\n",
       "      <th>persuasion_skills</th>\n",
       "      <th>commitment</th>\n",
       "      <th>respect</th>\n",
       "      <th>development</th>\n",
       "      <th>goal</th>\n",
       "      <th>perf_feedback</th>\n",
       "      <th>perf_fair</th>\n",
       "      <th>reward_fair</th>\n",
       "      <th>work_life</th>\n",
       "      <th>competition</th>\n",
       "      <th>culture_fit</th>\n",
       "      <th>extraversion</th>\n",
       "      <th>conscientiousness</th>\n",
       "      <th>emotion_stability</th>\n",
       "      <th>agreeable</th>\n",
       "      <th>openness</th>\n",
       "      <th>cognitive_ability</th>\n",
       "      <th>structured_interview</th>\n",
       "      <th>business_rating</th>\n",
       "      <th>behavior_rating</th>\n",
       "      <th>sales_skills</th>\n",
       "      <th>cluster</th>\n",
       "    </tr>\n",
       "  </thead>\n",
       "  <tbody>\n",
       "    <tr>\n",
       "      <th>0</th>\n",
       "      <td>1</td>\n",
       "      <td>2019</td>\n",
       "      <td>10</td>\n",
       "      <td>114</td>\n",
       "      <td>447</td>\n",
       "      <td>2188</td>\n",
       "      <td>34</td>\n",
       "      <td>Male</td>\n",
       "      <td>W</td>\n",
       "      <td>N</td>\n",
       "      <td>2</td>\n",
       "      <td>Home Appliances</td>\n",
       "      <td>7.5</td>\n",
       "      <td>Y</td>\n",
       "      <td>1</td>\n",
       "      <td>52686.16</td>\n",
       "      <td>10</td>\n",
       "      <td>2</td>\n",
       "      <td>2</td>\n",
       "      <td>3</td>\n",
       "      <td>3</td>\n",
       "      <td>2</td>\n",
       "      <td>1</td>\n",
       "      <td>1</td>\n",
       "      <td>2</td>\n",
       "      <td>2</td>\n",
       "      <td>1</td>\n",
       "      <td>2</td>\n",
       "      <td>3</td>\n",
       "      <td>1</td>\n",
       "      <td>2</td>\n",
       "      <td>2</td>\n",
       "      <td>3</td>\n",
       "      <td>2</td>\n",
       "      <td>2</td>\n",
       "      <td>4</td>\n",
       "      <td>2</td>\n",
       "      <td>2</td>\n",
       "      <td>3</td>\n",
       "      <td>0</td>\n",
       "    </tr>\n",
       "    <tr>\n",
       "      <th>1</th>\n",
       "      <td>1</td>\n",
       "      <td>2019</td>\n",
       "      <td>10</td>\n",
       "      <td>114</td>\n",
       "      <td>447</td>\n",
       "      <td>2350</td>\n",
       "      <td>40</td>\n",
       "      <td>Male</td>\n",
       "      <td>W</td>\n",
       "      <td>N</td>\n",
       "      <td>1</td>\n",
       "      <td>Cellphones and Accessories</td>\n",
       "      <td>6.6</td>\n",
       "      <td>N</td>\n",
       "      <td>1</td>\n",
       "      <td>56991.44</td>\n",
       "      <td>19</td>\n",
       "      <td>3</td>\n",
       "      <td>3</td>\n",
       "      <td>1</td>\n",
       "      <td>1</td>\n",
       "      <td>2</td>\n",
       "      <td>2</td>\n",
       "      <td>1</td>\n",
       "      <td>2</td>\n",
       "      <td>5</td>\n",
       "      <td>3</td>\n",
       "      <td>3</td>\n",
       "      <td>1</td>\n",
       "      <td>1</td>\n",
       "      <td>3</td>\n",
       "      <td>3</td>\n",
       "      <td>2</td>\n",
       "      <td>4</td>\n",
       "      <td>1</td>\n",
       "      <td>4</td>\n",
       "      <td>2</td>\n",
       "      <td>2</td>\n",
       "      <td>2</td>\n",
       "      <td>0</td>\n",
       "    </tr>\n",
       "    <tr>\n",
       "      <th>2</th>\n",
       "      <td>1</td>\n",
       "      <td>2019</td>\n",
       "      <td>10</td>\n",
       "      <td>114</td>\n",
       "      <td>447</td>\n",
       "      <td>661</td>\n",
       "      <td>21</td>\n",
       "      <td>Female</td>\n",
       "      <td>W</td>\n",
       "      <td>N</td>\n",
       "      <td>3</td>\n",
       "      <td>Cellphones and Accessories</td>\n",
       "      <td>6.9</td>\n",
       "      <td>N</td>\n",
       "      <td>1</td>\n",
       "      <td>48395.48</td>\n",
       "      <td>15</td>\n",
       "      <td>3</td>\n",
       "      <td>1</td>\n",
       "      <td>4</td>\n",
       "      <td>1</td>\n",
       "      <td>1</td>\n",
       "      <td>1</td>\n",
       "      <td>1</td>\n",
       "      <td>2</td>\n",
       "      <td>3</td>\n",
       "      <td>3</td>\n",
       "      <td>4</td>\n",
       "      <td>2</td>\n",
       "      <td>4</td>\n",
       "      <td>4</td>\n",
       "      <td>1</td>\n",
       "      <td>1</td>\n",
       "      <td>2</td>\n",
       "      <td>4</td>\n",
       "      <td>4</td>\n",
       "      <td>3</td>\n",
       "      <td>2</td>\n",
       "      <td>3</td>\n",
       "      <td>1</td>\n",
       "    </tr>\n",
       "    <tr>\n",
       "      <th>3</th>\n",
       "      <td>1</td>\n",
       "      <td>2019</td>\n",
       "      <td>10</td>\n",
       "      <td>114</td>\n",
       "      <td>447</td>\n",
       "      <td>5937</td>\n",
       "      <td>44</td>\n",
       "      <td>Female</td>\n",
       "      <td>NW</td>\n",
       "      <td>N</td>\n",
       "      <td>2</td>\n",
       "      <td>Office Products</td>\n",
       "      <td>7.2</td>\n",
       "      <td>Y</td>\n",
       "      <td>2</td>\n",
       "      <td>58628.83</td>\n",
       "      <td>13</td>\n",
       "      <td>4</td>\n",
       "      <td>2</td>\n",
       "      <td>5</td>\n",
       "      <td>4</td>\n",
       "      <td>2</td>\n",
       "      <td>1</td>\n",
       "      <td>1</td>\n",
       "      <td>1</td>\n",
       "      <td>3</td>\n",
       "      <td>1</td>\n",
       "      <td>4</td>\n",
       "      <td>4</td>\n",
       "      <td>3</td>\n",
       "      <td>3</td>\n",
       "      <td>2</td>\n",
       "      <td>5</td>\n",
       "      <td>1</td>\n",
       "      <td>1</td>\n",
       "      <td>3</td>\n",
       "      <td>2</td>\n",
       "      <td>2</td>\n",
       "      <td>2</td>\n",
       "      <td>2</td>\n",
       "    </tr>\n",
       "    <tr>\n",
       "      <th>4</th>\n",
       "      <td>1</td>\n",
       "      <td>2019</td>\n",
       "      <td>10</td>\n",
       "      <td>114</td>\n",
       "      <td>447</td>\n",
       "      <td>5734</td>\n",
       "      <td>40</td>\n",
       "      <td>Female</td>\n",
       "      <td>NW</td>\n",
       "      <td>Y</td>\n",
       "      <td>2</td>\n",
       "      <td>Cellphones and Accessories</td>\n",
       "      <td>10.3</td>\n",
       "      <td>N</td>\n",
       "      <td>2</td>\n",
       "      <td>76184.26</td>\n",
       "      <td>18</td>\n",
       "      <td>4</td>\n",
       "      <td>5</td>\n",
       "      <td>1</td>\n",
       "      <td>2</td>\n",
       "      <td>1</td>\n",
       "      <td>2</td>\n",
       "      <td>1</td>\n",
       "      <td>3</td>\n",
       "      <td>3</td>\n",
       "      <td>1</td>\n",
       "      <td>4</td>\n",
       "      <td>3</td>\n",
       "      <td>5</td>\n",
       "      <td>3</td>\n",
       "      <td>4</td>\n",
       "      <td>1</td>\n",
       "      <td>4</td>\n",
       "      <td>3</td>\n",
       "      <td>3</td>\n",
       "      <td>3</td>\n",
       "      <td>3</td>\n",
       "      <td>3</td>\n",
       "      <td>0</td>\n",
       "    </tr>\n",
       "    <tr>\n",
       "      <th>...</th>\n",
       "      <td>...</td>\n",
       "      <td>...</td>\n",
       "      <td>...</td>\n",
       "      <td>...</td>\n",
       "      <td>...</td>\n",
       "      <td>...</td>\n",
       "      <td>...</td>\n",
       "      <td>...</td>\n",
       "      <td>...</td>\n",
       "      <td>...</td>\n",
       "      <td>...</td>\n",
       "      <td>...</td>\n",
       "      <td>...</td>\n",
       "      <td>...</td>\n",
       "      <td>...</td>\n",
       "      <td>...</td>\n",
       "      <td>...</td>\n",
       "      <td>...</td>\n",
       "      <td>...</td>\n",
       "      <td>...</td>\n",
       "      <td>...</td>\n",
       "      <td>...</td>\n",
       "      <td>...</td>\n",
       "      <td>...</td>\n",
       "      <td>...</td>\n",
       "      <td>...</td>\n",
       "      <td>...</td>\n",
       "      <td>...</td>\n",
       "      <td>...</td>\n",
       "      <td>...</td>\n",
       "      <td>...</td>\n",
       "      <td>...</td>\n",
       "      <td>...</td>\n",
       "      <td>...</td>\n",
       "      <td>...</td>\n",
       "      <td>...</td>\n",
       "      <td>...</td>\n",
       "      <td>...</td>\n",
       "      <td>...</td>\n",
       "      <td>...</td>\n",
       "    </tr>\n",
       "    <tr>\n",
       "      <th>8793</th>\n",
       "      <td>8814</td>\n",
       "      <td>2019</td>\n",
       "      <td>10</td>\n",
       "      <td>94</td>\n",
       "      <td>436</td>\n",
       "      <td>5414</td>\n",
       "      <td>29</td>\n",
       "      <td>Female</td>\n",
       "      <td>NW</td>\n",
       "      <td>Y</td>\n",
       "      <td>2</td>\n",
       "      <td>Cellphones and Accessories</td>\n",
       "      <td>6.1</td>\n",
       "      <td>N</td>\n",
       "      <td>2</td>\n",
       "      <td>63663.50</td>\n",
       "      <td>26</td>\n",
       "      <td>4</td>\n",
       "      <td>2</td>\n",
       "      <td>1</td>\n",
       "      <td>2</td>\n",
       "      <td>1</td>\n",
       "      <td>1</td>\n",
       "      <td>2</td>\n",
       "      <td>1</td>\n",
       "      <td>1</td>\n",
       "      <td>1</td>\n",
       "      <td>4</td>\n",
       "      <td>2</td>\n",
       "      <td>2</td>\n",
       "      <td>3</td>\n",
       "      <td>3</td>\n",
       "      <td>2</td>\n",
       "      <td>3</td>\n",
       "      <td>3</td>\n",
       "      <td>5</td>\n",
       "      <td>2</td>\n",
       "      <td>1</td>\n",
       "      <td>1</td>\n",
       "      <td>1</td>\n",
       "    </tr>\n",
       "    <tr>\n",
       "      <th>8794</th>\n",
       "      <td>8814</td>\n",
       "      <td>2019</td>\n",
       "      <td>10</td>\n",
       "      <td>94</td>\n",
       "      <td>436</td>\n",
       "      <td>425</td>\n",
       "      <td>27</td>\n",
       "      <td>Male</td>\n",
       "      <td>W</td>\n",
       "      <td>N</td>\n",
       "      <td>0</td>\n",
       "      <td>Cellphones and Accessories</td>\n",
       "      <td>6.3</td>\n",
       "      <td>N</td>\n",
       "      <td>2</td>\n",
       "      <td>69121.93</td>\n",
       "      <td>7</td>\n",
       "      <td>2</td>\n",
       "      <td>2</td>\n",
       "      <td>3</td>\n",
       "      <td>1</td>\n",
       "      <td>2</td>\n",
       "      <td>2</td>\n",
       "      <td>2</td>\n",
       "      <td>2</td>\n",
       "      <td>1</td>\n",
       "      <td>3</td>\n",
       "      <td>2</td>\n",
       "      <td>3</td>\n",
       "      <td>3</td>\n",
       "      <td>4</td>\n",
       "      <td>1</td>\n",
       "      <td>4</td>\n",
       "      <td>2</td>\n",
       "      <td>4</td>\n",
       "      <td>4</td>\n",
       "      <td>3</td>\n",
       "      <td>2</td>\n",
       "      <td>3</td>\n",
       "      <td>1</td>\n",
       "    </tr>\n",
       "    <tr>\n",
       "      <th>8795</th>\n",
       "      <td>8814</td>\n",
       "      <td>2019</td>\n",
       "      <td>10</td>\n",
       "      <td>94</td>\n",
       "      <td>436</td>\n",
       "      <td>3659</td>\n",
       "      <td>23</td>\n",
       "      <td>Female</td>\n",
       "      <td>NW</td>\n",
       "      <td>N</td>\n",
       "      <td>0</td>\n",
       "      <td>Cellphones and Accessories</td>\n",
       "      <td>4.8</td>\n",
       "      <td>Y</td>\n",
       "      <td>1</td>\n",
       "      <td>42829.04</td>\n",
       "      <td>7</td>\n",
       "      <td>2</td>\n",
       "      <td>2</td>\n",
       "      <td>2</td>\n",
       "      <td>1</td>\n",
       "      <td>2</td>\n",
       "      <td>1</td>\n",
       "      <td>2</td>\n",
       "      <td>1</td>\n",
       "      <td>2</td>\n",
       "      <td>3</td>\n",
       "      <td>2</td>\n",
       "      <td>4</td>\n",
       "      <td>5</td>\n",
       "      <td>2</td>\n",
       "      <td>2</td>\n",
       "      <td>3</td>\n",
       "      <td>2</td>\n",
       "      <td>3</td>\n",
       "      <td>5</td>\n",
       "      <td>3</td>\n",
       "      <td>2</td>\n",
       "      <td>3</td>\n",
       "      <td>1</td>\n",
       "    </tr>\n",
       "    <tr>\n",
       "      <th>8796</th>\n",
       "      <td>8814</td>\n",
       "      <td>2019</td>\n",
       "      <td>10</td>\n",
       "      <td>94</td>\n",
       "      <td>436</td>\n",
       "      <td>7615</td>\n",
       "      <td>45</td>\n",
       "      <td>Male</td>\n",
       "      <td>W</td>\n",
       "      <td>N</td>\n",
       "      <td>2</td>\n",
       "      <td>Office Products</td>\n",
       "      <td>11.5</td>\n",
       "      <td>N</td>\n",
       "      <td>4</td>\n",
       "      <td>96917.48</td>\n",
       "      <td>11</td>\n",
       "      <td>4</td>\n",
       "      <td>4</td>\n",
       "      <td>5</td>\n",
       "      <td>2</td>\n",
       "      <td>2</td>\n",
       "      <td>1</td>\n",
       "      <td>3</td>\n",
       "      <td>2</td>\n",
       "      <td>3</td>\n",
       "      <td>2</td>\n",
       "      <td>3</td>\n",
       "      <td>2</td>\n",
       "      <td>4</td>\n",
       "      <td>2</td>\n",
       "      <td>2</td>\n",
       "      <td>4</td>\n",
       "      <td>4</td>\n",
       "      <td>5</td>\n",
       "      <td>4</td>\n",
       "      <td>3</td>\n",
       "      <td>1</td>\n",
       "      <td>3</td>\n",
       "      <td>2</td>\n",
       "    </tr>\n",
       "    <tr>\n",
       "      <th>8797</th>\n",
       "      <td>8814</td>\n",
       "      <td>2019</td>\n",
       "      <td>10</td>\n",
       "      <td>94</td>\n",
       "      <td>436</td>\n",
       "      <td>9016</td>\n",
       "      <td>36</td>\n",
       "      <td>Male</td>\n",
       "      <td>NW</td>\n",
       "      <td>Y</td>\n",
       "      <td>3</td>\n",
       "      <td>Computer &amp; Electronics</td>\n",
       "      <td>4.7</td>\n",
       "      <td>N</td>\n",
       "      <td>4</td>\n",
       "      <td>62803.24</td>\n",
       "      <td>12</td>\n",
       "      <td>2</td>\n",
       "      <td>3</td>\n",
       "      <td>3</td>\n",
       "      <td>2</td>\n",
       "      <td>2</td>\n",
       "      <td>3</td>\n",
       "      <td>1</td>\n",
       "      <td>2</td>\n",
       "      <td>2</td>\n",
       "      <td>1</td>\n",
       "      <td>2</td>\n",
       "      <td>3</td>\n",
       "      <td>2</td>\n",
       "      <td>3</td>\n",
       "      <td>3</td>\n",
       "      <td>3</td>\n",
       "      <td>3</td>\n",
       "      <td>2</td>\n",
       "      <td>5</td>\n",
       "      <td>1</td>\n",
       "      <td>1</td>\n",
       "      <td>1</td>\n",
       "      <td>0</td>\n",
       "    </tr>\n",
       "  </tbody>\n",
       "</table>\n",
       "<p>8798 rows × 40 columns</p>\n",
       "</div>"
      ],
      "text/plain": [
       "      store_id  year  month  population  location_code    id  age  gender  \\\n",
       "0            1  2019     10         114            447  2188   34    Male   \n",
       "1            1  2019     10         114            447  2350   40    Male   \n",
       "2            1  2019     10         114            447   661   21  Female   \n",
       "3            1  2019     10         114            447  5937   44  Female   \n",
       "4            1  2019     10         114            447  5734   40  Female   \n",
       "...        ...   ...    ...         ...            ...   ...  ...     ...   \n",
       "8793      8814  2019     10          94            436  5414   29  Female   \n",
       "8794      8814  2019     10          94            436   425   27    Male   \n",
       "8795      8814  2019     10          94            436  3659   23  Female   \n",
       "8796      8814  2019     10          94            436  7615   45    Male   \n",
       "8797      8814  2019     10          94            436  9016   36    Male   \n",
       "\n",
       "     race marital_status  education                    division  tenure  \\\n",
       "0       W              N          2             Home Appliances     7.5   \n",
       "1       W              N          1  Cellphones and Accessories     6.6   \n",
       "2       W              N          3  Cellphones and Accessories     6.9   \n",
       "3      NW              N          2             Office Products     7.2   \n",
       "4      NW              Y          2  Cellphones and Accessories    10.3   \n",
       "...   ...            ...        ...                         ...     ...   \n",
       "8793   NW              Y          2  Cellphones and Accessories     6.1   \n",
       "8794    W              N          0  Cellphones and Accessories     6.3   \n",
       "8795   NW              N          0  Cellphones and Accessories     4.8   \n",
       "8796    W              N          2             Office Products    11.5   \n",
       "8797   NW              Y          3      Computer & Electronics     4.7   \n",
       "\n",
       "     training_status  jlevel    salary  absent  turnover  persuasion_skills  \\\n",
       "0                  Y       1  52686.16      10         2                  2   \n",
       "1                  N       1  56991.44      19         3                  3   \n",
       "2                  N       1  48395.48      15         3                  1   \n",
       "3                  Y       2  58628.83      13         4                  2   \n",
       "4                  N       2  76184.26      18         4                  5   \n",
       "...              ...     ...       ...     ...       ...                ...   \n",
       "8793               N       2  63663.50      26         4                  2   \n",
       "8794               N       2  69121.93       7         2                  2   \n",
       "8795               Y       1  42829.04       7         2                  2   \n",
       "8796               N       4  96917.48      11         4                  4   \n",
       "8797               N       4  62803.24      12         2                  3   \n",
       "\n",
       "      commitment  respect  development  goal  perf_feedback  perf_fair  \\\n",
       "0              3        3            2     1              1          2   \n",
       "1              1        1            2     2              1          2   \n",
       "2              4        1            1     1              1          2   \n",
       "3              5        4            2     1              1          1   \n",
       "4              1        2            1     2              1          3   \n",
       "...          ...      ...          ...   ...            ...        ...   \n",
       "8793           1        2            1     1              2          1   \n",
       "8794           3        1            2     2              2          2   \n",
       "8795           2        1            2     1              2          1   \n",
       "8796           5        2            2     1              3          2   \n",
       "8797           3        2            2     3              1          2   \n",
       "\n",
       "      reward_fair  work_life  competition  culture_fit  extraversion  \\\n",
       "0               2          1            2            3             1   \n",
       "1               5          3            3            1             1   \n",
       "2               3          3            4            2             4   \n",
       "3               3          1            4            4             3   \n",
       "4               3          1            4            3             5   \n",
       "...           ...        ...          ...          ...           ...   \n",
       "8793            1          1            4            2             2   \n",
       "8794            1          3            2            3             3   \n",
       "8795            2          3            2            4             5   \n",
       "8796            3          2            3            2             4   \n",
       "8797            2          1            2            3             2   \n",
       "\n",
       "      conscientiousness  emotion_stability  agreeable  openness  \\\n",
       "0                     2                  2          3         2   \n",
       "1                     3                  3          2         4   \n",
       "2                     4                  1          1         2   \n",
       "3                     3                  2          5         1   \n",
       "4                     3                  4          1         4   \n",
       "...                 ...                ...        ...       ...   \n",
       "8793                  3                  3          2         3   \n",
       "8794                  4                  1          4         2   \n",
       "8795                  2                  2          3         2   \n",
       "8796                  2                  2          4         4   \n",
       "8797                  3                  3          3         3   \n",
       "\n",
       "      cognitive_ability  structured_interview  business_rating  \\\n",
       "0                     2                     4                2   \n",
       "1                     1                     4                2   \n",
       "2                     4                     4                3   \n",
       "3                     1                     3                2   \n",
       "4                     3                     3                3   \n",
       "...                 ...                   ...              ...   \n",
       "8793                  3                     5                2   \n",
       "8794                  4                     4                3   \n",
       "8795                  3                     5                3   \n",
       "8796                  5                     4                3   \n",
       "8797                  2                     5                1   \n",
       "\n",
       "      behavior_rating  sales_skills  cluster  \n",
       "0                   2             3        0  \n",
       "1                   2             2        0  \n",
       "2                   2             3        1  \n",
       "3                   2             2        2  \n",
       "4                   3             3        0  \n",
       "...               ...           ...      ...  \n",
       "8793                1             1        1  \n",
       "8794                2             3        1  \n",
       "8795                2             3        1  \n",
       "8796                1             3        2  \n",
       "8797                1             1        0  \n",
       "\n",
       "[8798 rows x 40 columns]"
      ]
     },
     "execution_count": 17,
     "metadata": {},
     "output_type": "execute_result"
    }
   ],
   "source": [
    "# Select the columns for clustering\n",
    "X = df_emp[common_columns]\n",
    "\n",
    "# Create an instance of the KMeans model with the desired number of clusters\n",
    "kmeans = KMeans(n_clusters=3, random_state=42)\n",
    "\n",
    "# Fit the model to the data\n",
    "kmeans.fit(X)\n",
    "\n",
    "# Get the cluster labels for each data point\n",
    "labels = kmeans.labels_\n",
    "\n",
    "# Add the cluster labels as a new column in the dataframe\n",
    "df_emp['cluster'] = labels\n",
    "\n",
    "# Print the dataframe with the cluster labels\n",
    "df_emp\n"
   ]
  },
  {
   "cell_type": "code",
   "execution_count": 18,
   "metadata": {},
   "outputs": [
    {
     "name": "stderr",
     "output_type": "stream",
     "text": [
      "c:\\Users\\ruchi\\anaconda3\\lib\\site-packages\\sklearn\\cluster\\_kmeans.py:1412: FutureWarning: The default value of `n_init` will change from 10 to 'auto' in 1.4. Set the value of `n_init` explicitly to suppress the warning\n",
      "  super()._check_params_vs_input(X, default_n_init=10)\n"
     ]
    },
    {
     "data": {
      "image/png": "[encoded data removed]",
      "text/plain": [
       "<Figure size 640x480 with 1 Axes>"
      ]
     },
     "metadata": {},
     "output_type": "display_data"
    }
   ],
   "source": [
    "# Select the columns for clustering\n",
    "X = df_emp[common_columns]\n",
    "\n",
    "# Create an instance of the KMeans model with the desired number of clusters\n",
    "kmeans = KMeans(n_clusters=5, random_state=42)\n",
    "\n",
    "# Fit the model to the data\n",
    "kmeans.fit(X)\n",
    "\n",
    "# Get the cluster labels for each data point\n",
    "labels = kmeans.labels_\n",
    "\n",
    "# Add the cluster labels as a new column in the dataframe\n",
    "df_emp['cluster'] = labels\n",
    "\n",
    "# Create a pivot table to calculate the mean values of each feature for each cluster\n",
    "# Group by cluster and calculate the count of each cluster\n",
    "cluster_counts = df_emp.groupby('cluster').size()\n",
    "\n",
    "# Plot the bar chart\n",
    "cluster_counts.plot(kind='bar')\n",
    "\n",
    "# Add labels and title\n",
    "plt.xlabel('Cluster')\n",
    "plt.ylabel('Count')\n",
    "plt.title('Cluster Distribution')\n",
    "\n",
    "# Show the plot\n",
    "plt.show()\n",
    "\n",
    "# Plot the heatmap\n",
    "# sns.heatmap(cluster_means, cmap='coolwarm', annot=True)\n"
   ]
  },
  {
   "cell_type": "code",
   "execution_count": 19,
   "metadata": {},
   "outputs": [
    {
     "data": {
      "text/plain": [
       "<matplotlib.legend.Legend at 0x1cea08eb0a0>"
      ]
     },
     "execution_count": 19,
     "metadata": {},
     "output_type": "execute_result"
    },
    {
     "data": {
      "image/png": "[encoded data removed]",
      "text/plain": [
       "<Figure size 1200x600 with 1 Axes>"
      ]
     },
     "metadata": {},
     "output_type": "display_data"
    },
    {
     "data": {
      "image/png": "[encoded data removed]",
      "text/plain": [
       "<Figure size 1200x600 with 1 Axes>"
      ]
     },
     "metadata": {},
     "output_type": "display_data"
    }
   ],
   "source": [
    "\n",
    "# Plotting the mean of each attribute by cluster\n",
    "\n",
    "ax = df_emp[['turnover','extraversion', 'conscientiousness', 'persuasion_skills', 'agreeable', 'sales_skills', 'education', 'cognitive_ability', 'culture_fit', 'emotion_stability', 'work_life', 'openness', 'structured_interview', 'cluster']].groupby('cluster').mean().plot(kind='bar', figsize=(12, 6))\n",
    "plt.title(\"Mean of Customer Data Attributes by Cluster\")\n",
    "plt.xticks(rotation=45)\n",
    "ax.legend(loc='upper left', bbox_to_anchor=(1, 1))\n",
    "# Plotting the mean of each attribute by cluster\n",
    "\n",
    "# Calculate the average turnover rating for each cluster\n",
    "cluster_turnover_mean = df_emp.groupby('cluster')['turnover'].mean()\n",
    "\n",
    "# Sort the clusters by average turnover rating\n",
    "sorted_clusters = cluster_turnover_mean.sort_values(ascending=False).index\n",
    "\n",
    "# Plot the mean of each attribute by cluster, ordered by average turnover rating\n",
    "ax = df_emp[['turnover','business_rating', 'behavior_rating','extraversion', 'conscientiousness', 'persuasion_skills', 'agreeable', 'sales_skills', 'education', 'cognitive_ability', 'culture_fit', 'emotion_stability', 'work_life', 'openness', 'structured_interview', 'cluster']].groupby('cluster').mean().loc[sorted_clusters].plot(kind='bar', figsize=(12, 6))\n",
    "\n",
    "plt.title(\"Mean of Customer Data Attributes by Cluster (Ordered by Turnover Rating)\")\n",
    "plt.xticks(rotation=45)\n",
    "ax.legend(loc='upper left', bbox_to_anchor=(1, 1))\n"
   ]
  },
  {
   "cell_type": "markdown",
   "metadata": {},
   "source": [
    "## 7. Feature engineering"
   ]
  },
  {
   "cell_type": "markdown",
   "metadata": {},
   "source": [
    "We use a simple average of businesss and behavior ratings as an overall rating"
   ]
  },
  {
   "cell_type": "code",
   "execution_count": 20,
   "metadata": {},
   "outputs": [],
   "source": [
    "df_emp['overall_rating'] = (df_emp['business_rating']+df_emp['behavior_rating'])/2"
   ]
  },
  {
   "cell_type": "code",
   "execution_count": 21,
   "metadata": {},
   "outputs": [
    {
     "data": {
      "text/plain": [
       "count    8798.000000\n",
       "mean        1.870993\n",
       "std         0.608761\n",
       "min         1.000000\n",
       "25%         1.500000\n",
       "50%         2.000000\n",
       "75%         2.500000\n",
       "max         3.000000\n",
       "Name: overall_rating, dtype: float64"
      ]
     },
     "execution_count": 21,
     "metadata": {},
     "output_type": "execute_result"
    }
   ],
   "source": [
    "df_emp['overall_rating'].describe()"
   ]
  },
  {
   "cell_type": "markdown",
   "metadata": {},
   "source": [
    "Employee Groups based on overall rating and turnover rating"
   ]
  },
  {
   "cell_type": "code",
   "execution_count": 22,
   "metadata": {},
   "outputs": [],
   "source": [
    "worst = (df_emp['turnover'] >= 4) & (df_emp['overall_rating'] <= 1)\n",
    "average = (df_emp['turnover'] < 4) & (df_emp['turnover'] > 2) & (df_emp['overall_rating'] > 1) & (df_emp['overall_rating'] < 3)\n",
    "best = (df_emp['turnover'] == 1) & (df_emp['overall_rating'] == 3)\n",
    "retained_best = (df_emp['turnover'] > 3) & (df_emp['overall_rating'] == 3)\n"
   ]
  },
  {
   "cell_type": "code",
   "execution_count": 23,
   "metadata": {},
   "outputs": [
    {
     "data": {
      "text/plain": [
       "turnover\n",
       "4    350\n",
       "5    167\n",
       "Name: count, dtype: int64"
      ]
     },
     "execution_count": 23,
     "metadata": {},
     "output_type": "execute_result"
    }
   ],
   "source": [
    "df_emp.loc[worst, 'turnover'].value_counts()\n"
   ]
  },
  {
   "cell_type": "code",
   "execution_count": 24,
   "metadata": {},
   "outputs": [
    {
     "data": {
      "text/plain": [
       "turnover\n",
       "3    1838\n",
       "Name: count, dtype: int64"
      ]
     },
     "execution_count": 24,
     "metadata": {},
     "output_type": "execute_result"
    }
   ],
   "source": [
    "df_emp.loc[average, 'turnover'].value_counts()\n"
   ]
  },
  {
   "cell_type": "code",
   "execution_count": 25,
   "metadata": {},
   "outputs": [
    {
     "data": {
      "text/plain": [
       "turnover\n",
       "1    241\n",
       "Name: count, dtype: int64"
      ]
     },
     "execution_count": 25,
     "metadata": {},
     "output_type": "execute_result"
    }
   ],
   "source": [
    "df_emp.loc[best, 'turnover'].value_counts()"
   ]
  },
  {
   "cell_type": "code",
   "execution_count": 26,
   "metadata": {},
   "outputs": [
    {
     "data": {
      "text/plain": [
       "turnover\n",
       "4    115\n",
       "5     40\n",
       "Name: count, dtype: int64"
      ]
     },
     "execution_count": 26,
     "metadata": {},
     "output_type": "execute_result"
    }
   ],
   "source": [
    "df_emp.loc[retained_best, 'turnover'].value_counts()"
   ]
  },
  {
   "cell_type": "code",
   "execution_count": 27,
   "metadata": {},
   "outputs": [],
   "source": [
    "retained_best_count = df_emp.loc[retained_best, 'turnover'].value_counts()"
   ]
  },
  {
   "cell_type": "code",
   "execution_count": 28,
   "metadata": {},
   "outputs": [
    {
     "data": {
      "text/plain": [
       "turnover\n",
       "4    115\n",
       "5     40\n",
       "Name: count, dtype: int64"
      ]
     },
     "execution_count": 28,
     "metadata": {},
     "output_type": "execute_result"
    }
   ],
   "source": [
    "retained_best_count"
   ]
  },
  {
   "cell_type": "code",
   "execution_count": 29,
   "metadata": {},
   "outputs": [
    {
     "name": "stdout",
     "output_type": "stream",
     "text": [
      "Worst Group:\n",
      "turnover\n",
      "4    350\n",
      "5    167\n",
      "Name: count, dtype: int64\n",
      "\n",
      "Average Group:\n",
      "turnover\n",
      "3    1838\n",
      "Name: count, dtype: int64\n",
      "\n",
      "Best Group:\n",
      "turnover\n",
      "1    241\n",
      "Name: count, dtype: int64\n"
     ]
    }
   ],
   "source": [
    "worst_count = df_emp.loc[worst, 'turnover'].value_counts()\n",
    "average_count = df_emp.loc[average, 'turnover'].value_counts()\n",
    "best_count = df_emp.loc[best, 'turnover'].value_counts()\n",
    "\n",
    "\n",
    "print(\"Worst Group:\")\n",
    "print(worst_count)\n",
    "\n",
    "print(\"\\nAverage Group:\")\n",
    "print(average_count)\n",
    "\n",
    "print(\"\\nBest Group:\")\n",
    "print(best_count)\n"
   ]
  },
  {
   "cell_type": "code",
   "execution_count": 30,
   "metadata": {},
   "outputs": [
    {
     "data": {
      "image/png": "[encoded data removed]",
      "text/plain": [
       "<Figure size 640x480 with 1 Axes>"
      ]
     },
     "metadata": {},
     "output_type": "display_data"
    }
   ],
   "source": [
    "# Group the data by jlevel and calculate the mean salary for each jlevel\n",
    "df_worst = df_emp[worst]\n",
    "mean_salary_by_jlevel = df_emp.groupby('jlevel')['salary'].mean()\n",
    "\n",
    "# Plot the bar plot\n",
    "plt.bar(mean_salary_by_jlevel.index, mean_salary_by_jlevel.values)\n",
    "\n",
    "# Add labels and title\n",
    "plt.xlabel('Jlevel')\n",
    "plt.ylabel('Mean Salary')\n",
    "plt.title('Mean Salary by Jlevel')\n",
    "\n",
    "# Show the plot\n",
    "plt.show()\n"
   ]
  },
  {
   "cell_type": "code",
   "execution_count": 31,
   "metadata": {},
   "outputs": [
    {
     "data": {
      "image/png": "[encoded data removed]",
      "text/plain": [
       "<Figure size 1000x600 with 1 Axes>"
      ]
     },
     "metadata": {},
     "output_type": "display_data"
    }
   ],
   "source": [
    "# Group the data by jlevel and calculate the mean salary for each jlevel\n",
    "mean_salary_by_jlevel_average = df_emp[average].groupby('jlevel')['salary'].mean()\n",
    "mean_salary_by_jlevel_best = df_emp[best].groupby('jlevel')['salary'].mean()\n",
    "mean_salary_by_jlevel_retained_best = df_emp[retained_best].groupby('jlevel')['salary'].mean()\n",
    "\n",
    "# Plot the bar plots\n",
    "plt.figure(figsize=(10, 6))\n",
    "\n",
    "# Plot the mean salary for each jlevel in the 'average' cluster\n",
    "plt.bar(mean_salary_by_jlevel_average.index, mean_salary_by_jlevel_average.values, label='Average')\n",
    "\n",
    "# Plot the mean salary for each jlevel in the 'best' cluster\n",
    "plt.bar(mean_salary_by_jlevel_best.index, mean_salary_by_jlevel_best.values, label='Best')\n",
    "\n",
    "# Plot the mean salary for each jlevel in the 'retained_best' cluster\n",
    "plt.bar(mean_salary_by_jlevel_retained_best.index, mean_salary_by_jlevel_retained_best.values, label='Retained Best')\n",
    "\n",
    "# Add labels and title\n",
    "plt.xlabel('Jlevel')\n",
    "plt.ylabel('Mean Salary')\n",
    "plt.title('Mean Salary by Jlevel (Filtered Dataframes)')\n",
    "plt.legend()\n",
    "\n",
    "# Show the plot\n",
    "plt.show()\n"
   ]
  },
  {
   "cell_type": "code",
   "execution_count": 32,
   "metadata": {},
   "outputs": [
    {
     "name": "stderr",
     "output_type": "stream",
     "text": [
      "c:\\Users\\ruchi\\anaconda3\\lib\\site-packages\\sklearn\\linear_model\\_logistic.py:460: ConvergenceWarning: lbfgs failed to converge (status=1):\n",
      "STOP: TOTAL NO. of ITERATIONS REACHED LIMIT.\n",
      "\n",
      "Increase the number of iterations (max_iter) or scale the data as shown in:\n",
      "    https://scikit-learn.org/stable/modules/preprocessing.html\n",
      "Please also refer to the documentation for alternative solver options:\n",
      "    https://scikit-learn.org/stable/modules/linear_model.html#logistic-regression\n",
      "  n_iter_i = _check_optimize_result(\n"
     ]
    },
    {
     "data": {
      "text/plain": [
       "0.3880681818181818"
      ]
     },
     "execution_count": 32,
     "metadata": {},
     "output_type": "execute_result"
    }
   ],
   "source": [
    "\n",
    "# Split the data into input features (X) and target variable (y)\n",
    "X = df_emp[common_columns]\n",
    "y = df_emp['turnover']\n",
    "\n",
    "# Split the data into training and testing sets\n",
    "X_train, X_test, y_train, y_test = train_test_split(X, y, test_size=0.2, random_state=42)\n",
    "\n",
    "# Create an instance of the LogisticRegression model\n",
    "model = LogisticRegression()\n",
    "\n",
    "# Fit the model to the training data\n",
    "model.fit(X_train, y_train)\n",
    "\n",
    "# Predict the target variable for the testing data\n",
    "y_pred = model.predict(X_test)\n",
    "\n",
    "# Evaluate the model's performance\n",
    "accuracy = accuracy_score(y_test, y_pred)\n",
    "accuracy\n"
   ]
  },
  {
   "cell_type": "code",
   "execution_count": 33,
   "metadata": {},
   "outputs": [
    {
     "data": {
      "image/png": "[encoded data removed]",
      "text/plain": [
       "<Figure size 640x480 with 1 Axes>"
      ]
     },
     "metadata": {},
     "output_type": "display_data"
    }
   ],
   "source": [
    "import matplotlib.pyplot as plt\n",
    "\n",
    "# Count the number of occurrences of each cluster\n",
    "cluster_counts = df_emp['cluster'].value_counts()\n",
    "\n",
    "# Plot the bar chart\n",
    "plt.bar(cluster_counts.index, cluster_counts.values)\n",
    "\n",
    "# Add labels and title\n",
    "plt.xlabel('Cluster')\n",
    "plt.ylabel('Count')\n",
    "plt.title('Cluster Distribution')\n",
    "\n",
    "# Show the plot\n",
    "plt.show()\n"
   ]
  }
 ],
 "metadata": {
  "kernelspec": {
   "display_name": "base",
   "language": "python",
   "name": "python3"
  },
  "language_info": {
   "codemirror_mode": {
    "name": "ipython",
    "version": 3
   },
   "file_extension": ".py",
   "mimetype": "text/x-python",
   "name": "python",
   "nbconvert_exporter": "python",
   "pygments_lexer": "ipython3",
   "version": "3.9.18"
  }
 },
 "nbformat": 4,
 "nbformat_minor": 2
}
